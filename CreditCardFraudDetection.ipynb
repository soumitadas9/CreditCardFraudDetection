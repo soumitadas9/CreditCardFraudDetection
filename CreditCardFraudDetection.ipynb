{
 "cells": [
  {
   "cell_type": "code",
   "execution_count": null,
   "id": "8c95cf58",
   "metadata": {
    "id": "8c95cf58"
   },
   "outputs": [],
   "source": [
    "# Import the required Libraries\n",
    "import pandas as pd\n",
    "import numpy as np\n",
    "import matplotlib.pyplot as plt\n",
    "import seaborn as sns\n",
    "from sklearn.model_selection import train_test_split, StratifiedKFold, GridSearchCV, cross_val_score\n",
    "from sklearn.preprocessing import StandardScaler, PowerTransformer\n",
    "from sklearn.ensemble import RandomForestClassifier\n",
    "from sklearn.linear_model import LogisticRegression\n",
    "from sklearn.svm import SVC\n",
    "from sklearn.tree import DecisionTreeClassifier\n",
    "from sklearn.neighbors import KNeighborsClassifier\n",
    "from xgboost import XGBClassifier\n",
    "from sklearn.metrics import classification_report, confusion_matrix, roc_auc_score, precision_score, recall_score, f1_score, average_precision_score\n",
    "from imblearn.over_sampling import SMOTE, ADASYN, RandomOverSampler\n",
    "from collections import Counter"
   ]
  },
  {
   "cell_type": "code",
   "execution_count": null,
   "id": "bcXx06RIx-ZT",
   "metadata": {
    "colab": {
     "base_uri": "https://localhost:8080/"
    },
    "id": "bcXx06RIx-ZT",
    "outputId": "cc12f907-b7a4-42d3-851d-9cc298fc2175"
   },
   "outputs": [],
   "source": [
    "# Step 1: Data Understanding\n",
    "print(\"\\nStep 1: Data Understanding\")\n",
    "# Load the dataset...data can be downloaded from https://www.kaggle.com/datasets/mlg-ulb/creditcardfraud/data\n",
    "print(\"Loading dataset...\")\n",
    "data = pd.read_csv('creditcard.csv')\n",
    "print(\"Dataset loaded successfully.\")\n",
    "print(f\"Dataset contains {data.shape[0]} rows and {data.shape[1]} columns.\")"
   ]
  },
  {
   "cell_type": "code",
   "execution_count": null,
   "id": "a89a07f9",
   "metadata": {
    "colab": {
     "base_uri": "https://localhost:8080/"
    },
    "id": "a89a07f9",
    "outputId": "d283da5b-e6c2-46b8-a7b8-404139b3e8c0"
   },
   "outputs": [],
   "source": [
    "# Display information about the dataset\n",
    "print(\"\\nDataset Information:\")\n",
    "print(data.info())"
   ]
  },
  {
   "cell_type": "code",
   "execution_count": null,
   "id": "90dd4b3e",
   "metadata": {
    "colab": {
     "base_uri": "https://localhost:8080/"
    },
    "id": "90dd4b3e",
    "outputId": "d8a45ac6-154b-4327-fd92-afe3597a943b"
   },
   "outputs": [],
   "source": [
    "# Check for missing values\n",
    "print(\"\\nChecking for missing values...\")\n",
    "print(data.isnull().sum())"
   ]
  },
  {
   "cell_type": "code",
   "execution_count": null,
   "id": "b62bcf38",
   "metadata": {
    "colab": {
     "base_uri": "https://localhost:8080/"
    },
    "id": "b62bcf38",
    "outputId": "b22e5fe3-c188-4bd7-ed4d-7551c2491bea"
   },
   "outputs": [],
   "source": [
    "# Display the first few rows\n",
    "print(\"\\nPreview of the dataset:\")\n",
    "print(data.head())"
   ]
  },
  {
   "cell_type": "code",
   "execution_count": null,
   "id": "63f55ce7",
   "metadata": {
    "colab": {
     "base_uri": "https://localhost:8080/"
    },
    "id": "63f55ce7",
    "outputId": "b8a6a3d0-dbdb-416a-b938-ca8fca5eaa66"
   },
   "outputs": [],
   "source": [
    "# Step 2: Exploratory Data Analysis (EDA)\n",
    "print(\"\\nStep 2: Exploratory Data Analysis\")\n",
    "# Observe the different feature types present in the data\n",
    "print(\"\\nFeature Types:\")\n",
    "print(data.dtypes)"
   ]
  },
  {
   "cell_type": "code",
   "execution_count": null,
   "id": "5ddef917",
   "metadata": {
    "colab": {
     "base_uri": "https://localhost:8080/"
    },
    "id": "5ddef917",
    "outputId": "1c198023-b77b-4e04-81ea-609d47ea885b"
   },
   "outputs": [],
   "source": [
    "# Class distribution\n",
    "print(\"\\nClass Distribution:\")\n",
    "class_counts = data['Class'].value_counts()\n",
    "print(class_counts)"
   ]
  },
  {
   "cell_type": "code",
   "execution_count": null,
   "id": "fa1e5484",
   "metadata": {
    "colab": {
     "base_uri": "https://localhost:8080/",
     "height": 410
    },
    "id": "fa1e5484",
    "outputId": "cf577629-ce56-46ee-bd0b-ea0d8c43bd57"
   },
   "outputs": [],
   "source": [
    "# Bar plot for fraudulent vs non-fraudulent transactions\n",
    "plt.figure(figsize=(6, 4))\n",
    "sns.countplot(x='Class', data=data)\n",
    "plt.title(\"Number and Percentage of Fraudulent vs Non-Fraudulent Transactions\")\n",
    "plt.xlabel(\"Class\")\n",
    "plt.ylabel(\"Count\")\n",
    "plt.show()"
   ]
  },
  {
   "cell_type": "code",
   "execution_count": null,
   "id": "70c6f3e2",
   "metadata": {
    "colab": {
     "base_uri": "https://localhost:8080/"
    },
    "id": "70c6f3e2",
    "outputId": "28552b47-2c4f-4cd8-b952-4cf4451255ae"
   },
   "outputs": [],
   "source": [
    "fraud_percentage = (class_counts[1] / len(data)) * 100\n",
    "print(f\"Percentage of Fraudulent Transactions: {fraud_percentage:.2f}%\")"
   ]
  },
  {
   "cell_type": "code",
   "execution_count": null,
   "id": "cb43622b",
   "metadata": {
    "colab": {
     "base_uri": "https://localhost:8080/",
     "height": 564
    },
    "id": "cb43622b",
    "outputId": "03f27a9d-79f6-440d-ec72-ba62d4a7aeb5"
   },
   "outputs": [],
   "source": [
    "# Scatter plot: Class distribution with Time\n",
    "plt.figure(figsize=(10, 6))\n",
    "sns.scatterplot(x='Time', y='Class', data=data, hue='Class', palette=['red', 'blue'])\n",
    "plt.title(\"Distribution of Classes with Time\")\n",
    "plt.xlabel(\"Time\")\n",
    "plt.ylabel(\"Class\")\n",
    "plt.show()"
   ]
  },
  {
   "cell_type": "code",
   "execution_count": null,
   "id": "46920f63",
   "metadata": {
    "colab": {
     "base_uri": "https://localhost:8080/",
     "height": 564
    },
    "id": "46920f63",
    "outputId": "58c60c33-429d-46dc-b3f3-a8d4e5e6e2ac"
   },
   "outputs": [],
   "source": [
    "# Scatter plot: Class distribution with Amount\n",
    "plt.figure(figsize=(10, 6))\n",
    "sns.scatterplot(x='Amount', y='Class', data=data, hue='Class', palette=['red', 'blue'])\n",
    "plt.title(\"Distribution of Classes with Amount\")\n",
    "plt.xlabel(\"Amount\")\n",
    "plt.ylabel(\"Class\")\n",
    "plt.show()"
   ]
  },
  {
   "cell_type": "code",
   "execution_count": null,
   "id": "27095371",
   "metadata": {
    "colab": {
     "base_uri": "https://localhost:8080/",
     "height": 599
    },
    "id": "27095371",
    "outputId": "e027fdf6-50c6-4198-84c2-a719568c5dc9"
   },
   "outputs": [],
   "source": [
    "# Plot histogram to observe skewness\n",
    "print(\"\\nPlotting histogram for 'Amount' to observe skewness...\")\n",
    "plt.figure(figsize=(8, 6))\n",
    "plt.hist(data['Amount'], bins=50, color='blue', alpha=0.7)\n",
    "plt.title(\"Histogram of Transaction Amount\")\n",
    "plt.xlabel(\"Transaction Amount\")\n",
    "plt.ylabel(\"Frequency\")\n",
    "plt.show()"
   ]
  },
  {
   "cell_type": "code",
   "execution_count": null,
   "id": "f3c5495b",
   "metadata": {
    "colab": {
     "base_uri": "https://localhost:8080/"
    },
    "id": "f3c5495b",
    "outputId": "bfea23de-c020-4b4b-b048-eb800339c623"
   },
   "outputs": [],
   "source": [
    "# Apply Power Transformer to make distribution more Gaussian\n",
    "print(\"\\nApplying PowerTransformer to handle skewness...\")\n",
    "power_transformer = PowerTransformer(copy=False)\n",
    "data[['Amount']] = power_transformer.fit_transform(data[['Amount']])"
   ]
  },
  {
   "cell_type": "code",
   "execution_count": null,
   "id": "5e6d95c3",
   "metadata": {
    "colab": {
     "base_uri": "https://localhost:8080/",
     "height": 564
    },
    "id": "5e6d95c3",
    "outputId": "8b923223-547f-494c-ea84-b981d977389d"
   },
   "outputs": [],
   "source": [
    "# Plot histogram again after Power Transformation\n",
    "plt.figure(figsize=(8, 6))\n",
    "plt.hist(data['Amount'], bins=50, color='green', alpha=0.7)\n",
    "plt.title(\"Histogram of Transaction Amount after Power Transformation\")\n",
    "plt.xlabel(\"Transaction Amount\")\n",
    "plt.ylabel(\"Frequency\")\n",
    "plt.show()"
   ]
  },
  {
   "cell_type": "code",
   "execution_count": null,
   "id": "3f0c12f7",
   "metadata": {
    "colab": {
     "base_uri": "https://localhost:8080/"
    },
    "id": "3f0c12f7",
    "outputId": "8ad76def-58e2-473b-dfc5-13516302a7d1"
   },
   "outputs": [],
   "source": [
    "# Drop unnecessary columns\n",
    "print(\"\\nDropping unnecessary columns...\")\n",
    "columns_to_drop = ['Unnamed: 0']  # Example of columns to drop; adjust if necessary\n",
    "data = data.drop(columns=columns_to_drop, errors='ignore')\n",
    "print(f\"Remaining columns: {data.columns.tolist()}\\n\")"
   ]
  },
  {
   "cell_type": "code",
   "execution_count": null,
   "id": "382e678f",
   "metadata": {
    "colab": {
     "base_uri": "https://localhost:8080/"
    },
    "id": "382e678f",
    "outputId": "b572b4e9-c5af-4871-cefd-c5aef5a08ae8"
   },
   "outputs": [],
   "source": [
    "# Step 3: Train/Test Split\n",
    "print(\"\\nStep 3: Train/Test Split\")\n",
    "X = data.drop(columns=['Class'])\n",
    "y = data['Class']"
   ]
  },
  {
   "cell_type": "code",
   "execution_count": null,
   "id": "1cbe1166",
   "metadata": {
    "colab": {
     "base_uri": "https://localhost:8080/"
    },
    "id": "1cbe1166",
    "outputId": "1a38df4c-410f-4e1e-e201-5cf9e2fed5a7"
   },
   "outputs": [],
   "source": [
    "# Stratified train-test split\n",
    "X_train, X_test, y_train, y_test = train_test_split(X, y, test_size=0.3, stratify=y, random_state=42)\n",
    "print(\"Training set shape:\", X_train.shape)\n",
    "print(\"Test set shape:\", X_test.shape)"
   ]
  },
  {
   "cell_type": "code",
   "execution_count": null,
   "id": "547ff706-63fe-45f0-b248-405c82006aec",
   "metadata": {
    "id": "547ff706-63fe-45f0-b248-405c82006aec"
   },
   "outputs": [],
   "source": [
    "# Scale the data\n",
    "scaler = StandardScaler()\n",
    "X_train = scaler.fit_transform(X_train)\n",
    "X_test = scaler.transform(X_test)"
   ]
  },
  {
   "cell_type": "code",
   "execution_count": null,
   "id": "0dd29aa8-6776-4ae3-80a2-f9b3e05aa267",
   "metadata": {
    "id": "0dd29aa8-6776-4ae3-80a2-f9b3e05aa267"
   },
   "outputs": [],
   "source": [
    "# Initialize Models\n",
    "models = {\n",
    "    'LogisticRegression': LogisticRegression(max_iter=2000, solver='saga', C=0.1,random_state=42),\n",
    "    'RandomForest': RandomForestClassifier(random_state=42),\n",
    "    'SVC': SVC(probability=True, random_state=42),\n",
    "    'DecisionTree': DecisionTreeClassifier(random_state=42),\n",
    "    'KNeighbors': KNeighborsClassifier(),\n",
    "    'XGBoost': XGBClassifier(use_label_encoder=False, eval_metric='logloss', random_state=42)\n",
    "}"
   ]
  },
  {
   "cell_type": "code",
   "execution_count": null,
   "id": "581aa3f8-0b30-4328-9985-509a1f500921",
   "metadata": {
    "id": "581aa3f8-0b30-4328-9985-509a1f500921"
   },
   "outputs": [],
   "source": [
    "# Model Building and Evaluation on Imbalanced Data\n",
    "def evaluate_model_imbalanced(model, X_train, y_train, X_test, y_test):\n",
    "    model.fit(X_train, y_train)\n",
    "    y_pred = model.predict(X_test)\n",
    "    y_prob = model.predict_proba(X_test)[:, 1] if hasattr(model, 'predict_proba') else None\n",
    "    roc_auc = roc_auc_score(y_test, y_prob) if y_prob is not None else None\n",
    "    precision = precision_score(y_test, y_pred)\n",
    "    recall = recall_score(y_test, y_pred)\n",
    "    f1 = f1_score(y_test, y_pred)\n",
    "    print(f\"Model: {model.__class__.__name__}\")\n",
    "    print(f\"ROC-AUC: {roc_auc:.4f}\")\n",
    "    print(f\"Precision: {precision:.4f}\")\n",
    "    print(f\"Recall: {recall:.4f}\")\n",
    "    print(f\"F1-Score: {f1:.4f}\")\n",
    "    print(\"Classification Report:\\n\", classification_report(y_test, y_pred))"
   ]
  },
  {
   "cell_type": "code",
   "execution_count": null,
   "id": "64275eb6-ed91-449e-8e60-8569198d3f9e",
   "metadata": {
    "colab": {
     "base_uri": "https://localhost:8080/"
    },
    "id": "64275eb6-ed91-449e-8e60-8569198d3f9e",
    "outputId": "05dce1fd-2857-44ca-f511-fd0c13f38ceb"
   },
   "outputs": [],
   "source": [
    "print(\"\\nEvaluating models on imbalanced data...\")\n",
    "for model_name, model in models.items():\n",
    "    print(f\"\\nEvaluating {model_name}...\")\n",
    "    evaluate_model_imbalanced(model, X_train, y_train, X_test, y_test)"
   ]
  },
  {
   "cell_type": "code",
   "execution_count": null,
   "id": "44342b45-0462-4d09-a8b7-339dc246f741",
   "metadata": {
    "id": "44342b45-0462-4d09-a8b7-339dc246f741"
   },
   "outputs": [],
   "source": [
    "# Define a function for cross-validation and hyperparameter tuning\n",
    "def evaluate_model(model, param_grid, X, y):\n",
    "    skf = StratifiedKFold(n_splits=5, shuffle=True, random_state=42)\n",
    "    grid_search = GridSearchCV(estimator=model, param_grid=param_grid, cv=skf, scoring='roc_auc', verbose=1, n_jobs=-1)\n",
    "    grid_search.fit(X, y)\n",
    "    print(\"Best Parameters:\", grid_search.best_params_)\n",
    "    print(\"Best ROC-AUC:\", grid_search.best_score_)\n",
    "    return grid_search.best_estimator_"
   ]
  },
  {
   "cell_type": "code",
   "execution_count": null,
   "id": "8fafd67f-011f-4766-b701-6bb9ac2b4143",
   "metadata": {
    "id": "8fafd67f-011f-4766-b701-6bb9ac2b4143"
   },
   "outputs": [],
   "source": [
    "# Hyperparameter grids\n",
    "param_grids = {\n",
    "    'LogisticRegression': {'C': [0.1, 1, 10]},\n",
    "    'RandomForest': {'n_estimators': [100, 200], 'max_depth': [None, 10, 20]},\n",
    "    'SVC': {'C': [0.1, 1, 10], 'kernel': ['linear', 'rbf']},\n",
    "    'DecisionTree': {'max_depth': [None, 10, 20]},\n",
    "    'KNeighbors': {'n_neighbors': [3, 5, 7]},\n",
    "    'XGBoost': {'n_estimators': [100, 200], 'learning_rate': [0.01, 0.1]}\n",
    "}"
   ]
  },
  {
   "cell_type": "code",
   "execution_count": null,
   "id": "042e5fbc",
   "metadata": {
    "colab": {
     "base_uri": "https://localhost:8080/"
    },
    "id": "042e5fbc",
    "outputId": "d1f28c16-6bc4-40e5-80e9-389c1a05d4ad"
   },
   "outputs": [],
   "source": [
    "# Step 5: Handling Class Imbalance\n",
    "print(\"\\nStep 5: Handling Class Imbalance\")"
   ]
  },
  {
   "cell_type": "code",
   "execution_count": null,
   "id": "0cc8ef19",
   "metadata": {
    "colab": {
     "base_uri": "https://localhost:8080/"
    },
    "id": "0cc8ef19",
    "outputId": "afa8179e-78fa-4a6b-9d21-035939244f35"
   },
   "outputs": [],
   "source": [
    "# 1. Random Oversampling\n",
    "print(\"\\nApplying Random Oversampling...\")\n",
    "ros = RandomOverSampler(random_state=42)\n",
    "X_train_ros, y_train_ros = ros.fit_resample(X_train, y_train)\n",
    "print(\"Random Oversampling Class Distribution:\", Counter(y_train_ros))"
   ]
  },
  {
   "cell_type": "code",
   "execution_count": null,
   "id": "9a87da6b",
   "metadata": {
    "colab": {
     "base_uri": "https://localhost:8080/"
    },
    "id": "9a87da6b",
    "outputId": "f6132df7-0bcc-46aa-b08e-32f8d7eaa8a5"
   },
   "outputs": [],
   "source": [
    "# 2. SMOTE\n",
    "print(\"\\nApplying SMOTE...\")\n",
    "smote = SMOTE(random_state=42)\n",
    "X_train_smote, y_train_smote = smote.fit_resample(X_train, y_train)\n",
    "print(\"SMOTE Class Distribution:\", Counter(y_train_smote))"
   ]
  },
  {
   "cell_type": "code",
   "execution_count": null,
   "id": "806e6ad8",
   "metadata": {
    "colab": {
     "base_uri": "https://localhost:8080/"
    },
    "id": "806e6ad8",
    "outputId": "9bde0993-f827-4fa9-db9a-4197244052f4"
   },
   "outputs": [],
   "source": [
    "# 3. ADASYN\n",
    "print(\"\\nApplying ADASYN...\")\n",
    "adasyn = ADASYN(random_state=42)\n",
    "X_train_adasyn, y_train_adasyn = adasyn.fit_resample(X_train, y_train)\n",
    "print(\"ADASYN Class Distribution:\", Counter(y_train_adasyn))"
   ]
  },
  {
   "cell_type": "code",
   "execution_count": null,
   "id": "56bd10ed-6285-404a-bc4a-104d00ee83ce",
   "metadata": {
    "id": "56bd10ed-6285-404a-bc4a-104d00ee83ce"
   },
   "outputs": [],
   "source": [
    "# Evaluate models on balanced data (Random Oversampling, SMOTE, ADASYN)\n",
    "def evaluate_balanced_data(models, param_grids, X_train_balanced, y_train_balanced, X_test, y_test, method):\n",
    "    print(f\"\\nEvaluating models on {method} balanced data...\")\n",
    "    results = []\n",
    "    for model_name, model in models.items():\n",
    "        print(f\"\\nEvaluating {model_name} on {method} data...\")\n",
    "        best_model = evaluate_model(model, param_grids[model_name], X_train_balanced, y_train_balanced)\n",
    "        y_pred = best_model.predict(X_test)\n",
    "        y_prob = best_model.predict_proba(X_test)[:, 1]\n",
    "        roc_auc = roc_auc_score(y_test, y_prob)\n",
    "        precision = precision_score(y_test, y_pred)\n",
    "        recall = recall_score(y_test, y_pred)\n",
    "        f1 = f1_score(y_test, y_pred)\n",
    "        results.append((model_name, roc_auc, precision, recall, f1))\n",
    "    results_df = pd.DataFrame(results, columns=['Model', 'ROC-AUC', 'Precision', 'Recall', 'F1-Score'])\n",
    "    print(f\"Results on {method} data:\")\n",
    "    print(results_df.sort_values(by='ROC-AUC', ascending=False))\n"
   ]
  },
  {
   "cell_type": "code",
   "execution_count": null,
   "id": "daf8c664-e642-4f85-afa9-33b3f5121133",
   "metadata": {
    "colab": {
     "base_uri": "https://localhost:8080/"
    },
    "id": "daf8c664-e642-4f85-afa9-33b3f5121133",
    "outputId": "81a4afba-e47d-4060-841b-ca3406de4340"
   },
   "outputs": [],
   "source": [
    "# Evaluate on Random Oversampling\n",
    "evaluate_balanced_data(models, param_grids, X_train_ros, y_train_ros, X_test, y_test, \"Random Oversampling\")\n"
   ]
  },
  {
   "cell_type": "code",
   "execution_count": null,
   "id": "1a45f7c7-9fbb-4474-b8f3-2f214f99a11d",
   "metadata": {},
   "outputs": [],
   "source": [
    "from sklearn.model_selection import StratifiedKFold, GridSearchCV\n",
    "from sklearn.metrics import roc_auc_score, precision_score, recall_score, f1_score\n",
    "import pandas as pd\n",
    "\n",
    "def evaluate_balanced_data(models, param_grids, X_train_balanced, y_train_balanced, X_test, y_test, method):\n",
    "    print(f\"\\nEvaluating models on {method} balanced data...\")\n",
    "    results = []\n",
    "\n",
    "    # Use StratifiedKFold with fewer splits for faster evaluation\n",
    "    skf = StratifiedKFold(n_splits=3, shuffle=True, random_state=42)\n",
    "    \n",
    "    for model_name, model in models.items():\n",
    "        print(f\"\\nEvaluating {model_name} on {method} data...\")\n",
    "        \n",
    "        # Early stopping for boosting models\n",
    "        if model_name.lower() in ['xgboost', 'lightgbm']:\n",
    "            model.set_params(early_stopping_rounds=10)\n",
    "            eval_set = [(X_test, y_test)]\n",
    "            eval_metric = 'logloss' if model_name.lower() == 'xgboost' else 'binary_logloss'\n",
    "            model.set_params(eval_set=eval_set, eval_metric=eval_metric, verbose=-1)\n",
    "        \n",
    "        # Get parameter grid for the current model\n",
    "        param_grid = param_grids.get(model_name, {})\n",
    "\n",
    "        # Parallelize GridSearchCV and minimize verbosity\n",
    "        grid_search = GridSearchCV(\n",
    "            estimator=model,\n",
    "            param_grid=param_grid,\n",
    "            cv=skf,\n",
    "            scoring='roc_auc',\n",
    "            verbose=0,\n",
    "            n_jobs=-1  # Utilize all available cores\n",
    "        )\n",
    "\n",
    "        # Fit the model\n",
    "        grid_search.fit(X_train_balanced, y_train_balanced)\n",
    "\n",
    "        # Retrieve best model and metrics\n",
    "        best_model = grid_search.best_estimator_\n",
    "        y_pred = best_model.predict(X_test)\n",
    "        y_prob = best_model.predict_proba(X_test)[:, 1]\n",
    "        roc_auc = roc_auc_score(y_test, y_prob)\n",
    "        precision = precision_score(y_test, y_pred)\n",
    "        recall = recall_score(y_test, y_pred)\n",
    "        f1 = f1_score(y_test, y_pred)\n",
    "\n",
    "        results.append((model_name, roc_auc, precision, recall, f1))\n",
    "        print(f\"Completed evaluation for {model_name}: ROC-AUC = {roc_auc:.4f}\")\n",
    "\n",
    "    # Results DataFrame\n",
    "    results_df = pd.DataFrame(results, columns=['Model', 'ROC-AUC', 'Precision', 'Recall', 'F1-Score'])\n",
    "    print(f\"\\nResults on {method} balanced data:\")\n",
    "    print(results_df.sort_values(by='ROC-AUC', ascending=False))\n",
    "    \n",
    "    return results_df\n"
   ]
  },
  {
   "cell_type": "code",
   "execution_count": null,
   "id": "765c8649-8629-42c9-9671-f230bcaaf578",
   "metadata": {},
   "outputs": [],
   "source": [
    "# Evaluate on Random Oversampling\n",
    "evaluate_balanced_data(models, param_grids, X_train_ros, y_train_ros, X_test, y_test, \"Random Oversampling\")"
   ]
  },
  {
   "cell_type": "code",
   "execution_count": null,
   "id": "d26b6462-6dd7-4672-ac71-3a438d81755d",
   "metadata": {},
   "outputs": [],
   "source": []
  },
  {
   "cell_type": "code",
   "execution_count": null,
   "id": "e3dfb9be-ff07-483c-8290-cae30d90f1ee",
   "metadata": {
    "id": "e3dfb9be-ff07-483c-8290-cae30d90f1ee"
   },
   "outputs": [],
   "source": [
    "# Evaluate on SMOTE\n",
    "evaluate_balanced_data(models, param_grids, X_train_smote, y_train_smote, X_test, y_test, \"SMOTE\")"
   ]
  },
  {
   "cell_type": "code",
   "execution_count": null,
   "id": "d5d6c687-b18b-4747-b998-2f8d576ac590",
   "metadata": {
    "id": "d5d6c687-b18b-4747-b998-2f8d576ac590"
   },
   "outputs": [],
   "source": [
    "# Evaluate on ADASYN\n",
    "evaluate_balanced_data(models, param_grids, X_train_adasyn, y_train_adasyn, X_test, y_test, \"ADASYN\")"
   ]
  },
  {
   "cell_type": "code",
   "execution_count": null,
   "id": "a1b8b4a5",
   "metadata": {
    "id": "a1b8b4a5"
   },
   "outputs": [],
   "source": [
    "# Step 7: Final Notes\n",
    "print(\"\\nStep 6: Model Evaluation Completed\")\n",
    "print(\"Compare performance across Random Oversampling, SMOTE, and ADASYN to determine the best class balancing technique.\")"
   ]
  }
 ],
 "metadata": {
  "accelerator": "GPU",
  "colab": {
   "gpuType": "T4",
   "provenance": []
  },
  "kernelspec": {
   "display_name": "Python 3 (ipykernel)",
   "language": "python",
   "name": "python3"
  },
  "language_info": {
   "codemirror_mode": {
    "name": "ipython",
    "version": 3
   },
   "file_extension": ".py",
   "mimetype": "text/x-python",
   "name": "python",
   "nbconvert_exporter": "python",
   "pygments_lexer": "ipython3",
   "version": "3.11.5"
  }
 },
 "nbformat": 4,
 "nbformat_minor": 5
}
